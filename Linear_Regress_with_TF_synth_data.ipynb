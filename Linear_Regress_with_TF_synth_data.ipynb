{
 "cells": [
  {
   "cell_type": "markdown",
   "metadata": {},
   "source": [
    "# Linear Regression with TensorFlow\n",
    "\n",
    "Linear regression using tensorflow.\n",
    "\n",
    "In this notebook we demonstrate two ways of fitting linear regression model to the data. \n",
    "\n",
    "The first approach is closed form exact solution based on the Normal Equation. \n",
    "The second approach uses the Maximum Likelihood Estimation (MLE).\n"
   ]
  },
  {
   "cell_type": "code",
   "execution_count": 1,
   "metadata": {},
   "outputs": [],
   "source": [
    "import os\n",
    "import numpy as np\n",
    "import math as m\n",
    "\n",
    "import matplotlib.pyplot as plt\n",
    "%matplotlib inline\n",
    "\n",
    "from mpl_toolkits.mplot3d import Axes3D\n",
    "\n",
    "import pandas as pd\n",
    "\n",
    "import tensorflow as tf\n",
    "\n",
    "from tensorflow.python.layers import core as core_layers"
   ]
  },
  {
   "cell_type": "code",
   "execution_count": 2,
   "metadata": {},
   "outputs": [],
   "source": [
    "# utility function\n",
    "def reset_graph(seed=42):\n",
    "    # to make results reproducible across runs\n",
    "    tf.reset_default_graph()\n",
    "    tf.set_random_seed(seed)\n",
    "    np.random.seed(seed)\n",
    "    \n",
    "\n",
    "# To plot pretty figures\n",
    "plt.rcParams['axes.labelsize'] = 14\n",
    "plt.rcParams['xtick.labelsize'] = 12\n",
    "plt.rcParams['ytick.labelsize'] = 12\n"
   ]
  },
  {
   "cell_type": "markdown",
   "metadata": {},
   "source": [
    "### We use artificial data for the following regression\n",
    "\n",
    "$ y(x) = a + b_1 \\cdot X_1 + b_2 \\cdot X_2 + b_3 \\cdot X_3 + \\sigma \\cdot \\varepsilon $ \n",
    "\n",
    "where $ \\varepsilon \\sim N(0, 1) $ is a Gaussian noise, and $ \\sigma $ is its volatility, \n",
    "with the following choice of parameters:\n",
    "\n",
    "$ a = 1.0 $\n",
    "\n",
    "$ b_1, b_2, b_3 = (0.5, 0.2, 0.1) $\n",
    "\n",
    "$ \\sigma = 0.1 $\n",
    "\n",
    "$ X_1, X_2, X_3 $ will be uniformally distributed in $ [-1,1] $"
   ]
  },
  {
   "cell_type": "markdown",
   "metadata": {},
   "source": [
    "## Generate data"
   ]
  },
  {
   "cell_type": "code",
   "execution_count": 3,
   "metadata": {},
   "outputs": [],
   "source": [
    "n_points = 5000\n",
    "n_features = 3\n",
    "\n",
    "bias = np.ones(n_points).reshape((-1,1))\n",
    "low = - np.ones((n_points,n_features),'float')\n",
    "high = np.ones((n_points,n_features),'float')\n",
    "\n",
    "# simulated features\n",
    "X = np.random.uniform(low=low, high=high)\n",
    "\n",
    "# simulated noise\n",
    "noise = np.random.normal(size=(n_points, 1))\n",
    "\n",
    "# outputs \n",
    "weights = np.array([1.0, 0.5, 0.2, .1])\n",
    "noise_std = 0.1\n",
    "Y = weights[0] * bias + np.dot(X, weights[1:]).reshape((-1,1)) + noise_std * noise\n",
    "\n",
    "# split to the train and test set\n",
    "train_test_split = 4  # 1/4 of the data is used for a test\n",
    "\n",
    "n_test = int(n_points/train_test_split)\n",
    "n_train = n_points - n_test\n",
    "\n",
    "\n",
    "X_train = X[:n_train,:]\n",
    "Y_train = Y[:n_train].reshape((-1,1))\n",
    "\n",
    "X_test = X[n_train:,:]\n",
    "Y_test = Y[n_train:].reshape((-1,1))"
   ]
  },
  {
   "cell_type": "code",
   "execution_count": 4,
   "metadata": {},
   "outputs": [
    {
     "data": {
      "text/plain": [
       "((3750, 3), (3750, 1), (1250, 3), (1250, 1))"
      ]
     },
     "execution_count": 4,
     "metadata": {},
     "output_type": "execute_result"
    }
   ],
   "source": [
    "X_train.shape, Y_train.shape, X_test.shape, Y_test.shape "
   ]
  },
  {
   "cell_type": "markdown",
   "metadata": {},
   "source": [
    "### Linear Regression with Numpy"
   ]
  },
  {
   "cell_type": "code",
   "execution_count": 5,
   "metadata": {},
   "outputs": [
    {
     "name": "stdout",
     "output_type": "stream",
     "text": [
      "[[1.00035745]\n",
      " [0.51100505]\n",
      " [0.19651674]\n",
      " [0.10250075]]\n"
     ]
    }
   ],
   "source": [
    "# add the column of ones\n",
    "X = np.hstack((np.ones(n_train).reshape((-1,1)),X_train))\n",
    "\n",
    "theta_numpy = np.linalg.inv(X.T.dot(X)).dot(X.T).dot(Y_train)\n",
    "\n",
    "print(theta_numpy)"
   ]
  },
  {
   "cell_type": "markdown",
   "metadata": {},
   "source": [
    "### Linear Regression with Sklearn"
   ]
  },
  {
   "cell_type": "code",
   "execution_count": 6,
   "metadata": {},
   "outputs": [
    {
     "name": "stdout",
     "output_type": "stream",
     "text": [
      "[[1.00035745]\n",
      " [0.51100505]\n",
      " [0.19651674]\n",
      " [0.10250075]]\n"
     ]
    },
    {
     "name": "stderr",
     "output_type": "stream",
     "text": [
      "/Users/Elizabeth.Ke.Zhang/anaconda/lib/python3.6/site-packages/scipy/linalg/basic.py:1226: RuntimeWarning: internal gelsd driver lwork query error, required iwork dimension not returned. This is likely the result of LAPACK bug 0038, fixed in LAPACK 3.2.2 (released July 21, 2010). Falling back to 'gelss' driver.\n",
      "  warnings.warn(mesg, RuntimeWarning)\n"
     ]
    }
   ],
   "source": [
    "from sklearn.linear_model import LinearRegression\n",
    "lin_reg = LinearRegression()\n",
    "lin_reg.fit(X_train, Y_train)\n",
    "\n",
    "print(np.r_[lin_reg.intercept_.reshape(-1, 1), lin_reg.coef_.T])"
   ]
  },
  {
   "cell_type": "markdown",
   "metadata": {},
   "source": [
    "### Linear Regression with TensorFlow"
   ]
  },
  {
   "cell_type": "code",
   "execution_count": 7,
   "metadata": {},
   "outputs": [],
   "source": [
    "# add the column of ones\n",
    "X_np = np.hstack((np.ones(n_train).reshape((-1,1)),X_train))\n",
    "\n",
    "\n",
    "X = tf.constant(X_np, dtype=tf.float32, name=\"X\")\n",
    "y = tf.constant(Y_train, dtype=tf.float32, name=\"y\")\n",
    "XT = tf.transpose(X)\n",
    "theta = tf.matmul(tf.matmul(tf.matrix_inverse(tf.matmul(XT, X)), XT), y)\n",
    "\n",
    "with tf.Session() as sess:\n",
    "    theta_value = theta.eval()"
   ]
  },
  {
   "cell_type": "code",
   "execution_count": 8,
   "metadata": {},
   "outputs": [
    {
     "data": {
      "text/plain": [
       "array([[1.0003579 ],\n",
       "       [0.51100504],\n",
       "       [0.19651675],\n",
       "       [0.10250078]], dtype=float32)"
      ]
     },
     "execution_count": 8,
     "metadata": {},
     "output_type": "execute_result"
    }
   ],
   "source": [
    "theta_value"
   ]
  },
  {
   "cell_type": "markdown",
   "metadata": {},
   "source": [
    "## A simple class for Linear Regression \n",
    "\n",
    "Implements the Normal Equation and MLE solutions\n",
    "\n",
    "Plot the train and test errors."
   ]
  },
  {
   "cell_type": "markdown",
   "metadata": {},
   "source": [
    "# Generalization Error.\n",
    "\n",
    "Compute generalization error using Bias-Variance decomposition formula together with analytical integration or Monte Carlo. "
   ]
  },
  {
   "cell_type": "code",
   "execution_count": 11,
   "metadata": {},
   "outputs": [],
   "source": [
    "class Model:\n",
    "    \n",
    "    def __init__(self, n_features, learning_rate=0.05, L=0):\n",
    "        \n",
    "        # input placeholders\n",
    "        self.X = tf.placeholder(tf.float32, [None, n_features], name=\"X\") \n",
    "        self.Y = tf.placeholder(tf.float32, [None, 1], name=\"Y\")\n",
    "    \n",
    "        # regression parameters for the analytical solution using the Normal equation\n",
    "        self.theta_in = tf.placeholder(tf.float32, [n_features+1,None])\n",
    "\n",
    "        # Augmented data matrix is obtained by adding a column of ones to the data matrix\n",
    "        data_plus_bias = tf.concat([tf.ones([tf.shape(self.X)[0], 1]), self.X], axis=1)\n",
    "        \n",
    "        XT = tf.transpose(data_plus_bias)\n",
    "        \n",
    "        #############################################\n",
    "        # The normal equation for Linear Regression\n",
    "        \n",
    "        self.theta = tf.matmul(tf.matmul(\n",
    "            tf.matrix_inverse(tf.matmul(XT, data_plus_bias)), XT), self.Y)\n",
    "\n",
    "        \n",
    "        # mean square error in terms of theta = theta_in\n",
    "        self.lr_mse = tf.reduce_mean(tf.square(\n",
    "            tf.matmul(data_plus_bias, self.theta_in) - self.Y))\n",
    "               \n",
    "        \n",
    "        #############################################\n",
    "        # Estimate the model using the Maximum Likelihood Estimation (MLE)\n",
    "        \n",
    "        # regression parameters for the Maximum Likelihood method\n",
    "        # Note that there are n_features+2 parameters, as one is added for the intercept, \n",
    "        # and another one for the std of noise  \n",
    "        self.weights = tf.Variable(tf.random_normal([n_features+2, 1]))\n",
    "        \n",
    "        # prediction from the model\n",
    "        self.output = tf.matmul(data_plus_bias, self.weights[:-1, :])\n",
    "\n",
    "        gauss = tf.distributions.Normal(loc=0.0, scale=1.0)\n",
    "\n",
    "        # Standard deviation of the Gaussian noise is modelled as a square of the \n",
    "        # last model weight\n",
    "        sigma = 0.0001 + tf.square(self.weights[-1]) \n",
    "        \n",
    "#         pi = tf.constant(m.pi)\n",
    "    \n",
    "        log_LL = tf.log(0.00001 + (1/sigma) * gauss.prob((self.Y - self.output) / sigma ))  \n",
    "        self.loss = - tf.reduce_mean(log_LL)\n",
    "        \n",
    "        self.train_step = (tf.train.AdamOptimizer(learning_rate).minimize(self.loss), \n",
    "                           -self.loss)\n",
    "        self.error = tf.reduce_mean(tf.square(self.output - self.Y))\n",
    "        \n",
    "            \n",
    "    def generate_data(n_points = 10000, \n",
    "                      n_features = 3,\n",
    "                      weights = np.array([1.0, 0.5, 0.2, .1]),\n",
    "                      noise_std = 0.1):\n",
    "        \n",
    "        bias = np.ones(n_points).reshape((-1,1))\n",
    "        low = - np.ones((n_points,n_features),'float')\n",
    "        high = np.ones((n_points,n_features),'float')\n",
    "\n",
    "        # simulated features\n",
    "        X = np.random.uniform(low=low, high=high)\n",
    "        \n",
    "        # simulated noise\n",
    "        noise = np.random.normal(size=(n_points, 1))\n",
    "        \n",
    "        # outputs    \n",
    "        Y = weights[0] * bias + np.dot(X, weights[1:]).reshape((-1,1)) + noise_std * noise\n",
    "        \n",
    "#         print('Shapes in generate data: ', X.shape, weights.shape, noise.shape, Y.shape)    \n",
    "            \n",
    "        return (X, Y)\n",
    "    \n",
    "        \n",
    "def main():\n",
    "    \n",
    "    n_points = 5000\n",
    "    \n",
    "    n_features = 3\n",
    "    learning_rate = 0.05\n",
    "    \n",
    "    # n_features + 1 weights (one for a constant feature)\n",
    "    weights = np.array([1.0, 0.5, 0.2, .1]) \n",
    "    noise_std = 1\n",
    "    \n",
    "    # Make data\n",
    "    (X,Y) = Model.generate_data(n_points=n_points,\n",
    "                                n_features=n_features,\n",
    "                                weights=weights,\n",
    "                               noise_std=noise_std)\n",
    "    (X2,Y2) = Model.generate_data(n_points=n_points,\n",
    "                                n_features=n_features,\n",
    "                                weights=weights,\n",
    "                               noise_std=noise_std)\n",
    "    \n",
    "    # split to the train and test set\n",
    "    train_test_split = 4  # 1/4 of the data is used for a test\n",
    "    \n",
    "    n_test = int(n_points/4)\n",
    "    n_train = n_points - n_test\n",
    "    \n",
    "    X_train = X[:n_train,:]\n",
    "    Y_train = Y[:n_train].reshape((-1,1))\n",
    "\n",
    "    X_test = X[n_train:,:]\n",
    "    Y_test = Y[n_train:].reshape((-1,1))\n",
    "    \n",
    "    # print(X_train.shape, Y_train.shape, X_test.shape, Y_test.shape)\n",
    "    \n",
    "    # create an instance of the Linear Regression model class  \n",
    "    model = Model(n_features=n_features, \n",
    "                 learning_rate=learning_rate)\n",
    "    history = []\n",
    "\n",
    "    # train the model\n",
    "    with tf.Session() as sess:\n",
    "        sess.run(tf.global_variables_initializer())\n",
    "        saver = tf.train.Saver()\n",
    "    \n",
    "        # Normal equation for Linear Regression\n",
    "        theta_value = sess.run(model.theta, feed_dict={\n",
    "            model.X: X_train,\n",
    "            model.Y: Y_train\n",
    "            })\n",
    "    \n",
    "        lr_mse_train = sess.run(model.lr_mse, feed_dict={\n",
    "            model.X: X_train,\n",
    "            model.Y: Y_train,\n",
    "            model.theta_in: theta_value\n",
    "        })\n",
    "    \n",
    "        lr_mse_test = sess.run(model.lr_mse, feed_dict={\n",
    "            model.X: X_test,\n",
    "            model.Y: Y_test,\n",
    "            model.theta_in: theta_value\n",
    "        })\n",
    "    \n",
    "        print (\"====== Linear Regression with the Normal Equation ======\")\n",
    "        print(theta_value)\n",
    "        print (\"Linear regression train error:\", lr_mse_train)    \n",
    "        print (\"Linear regression test error:\", lr_mse_test)\n",
    "    \n",
    "        losses = []\n",
    "        history = []\n",
    "        \n",
    "        # Now train the MLE parameters \n",
    "        for i in range(0, 1000):\n",
    "            (_, loss), weights = sess.run((model.train_step, model.weights), feed_dict={\n",
    "                model.X: X_train,\n",
    "                model.Y: Y_train\n",
    "                })\n",
    "            losses.append(loss)\n",
    "            \n",
    "            test_error = sess.run(model.error, feed_dict={\n",
    "                            model.X: X_test,\n",
    "                            model.Y: Y_test\n",
    "                            })\n",
    "            train_error = sess.run(model.error, feed_dict={\n",
    "                            model.X: X_train,\n",
    "                            model.Y: Y_train\n",
    "                            })\n",
    "            true_error = sess.run(model.error, feed_dict={\n",
    "                            model.X: X2,\n",
    "                            model.Y: Y2\n",
    "                            })\n",
    "            history.append([train_error, test_error, true_error])\n",
    "            \n",
    "\n",
    "        # make test_prediction\n",
    "        Y_test_predicted = sess.run(model.output, feed_dict={\n",
    "            model.X: X_test\n",
    "            })\n",
    "        \n",
    "\n",
    "        \n",
    "        # output std sigma is a square of the last weight\n",
    "        std_model = weights[-1]**2 \n",
    "        print (\"\\n\")\n",
    "        print (\"====== Linear Regression with Maximum Likelihood Estimation ======\")\n",
    "        print (\"Negative Log-Likelihood:\", loss)\n",
    "        save_path = saver.save(sess, './feed_fwd_nn_eps.ckpt')\n",
    "        print('Saved session to %s' % save_path)\n",
    "        print (\"MLE fitted parameters:\")\n",
    "        print(weights[0:-1]) \n",
    "        print('Fitted std of noise: ',std_model)\n",
    "    \n",
    "        fig = plt.figure()\n",
    "        ax = fig.add_subplot(111, projection='3d')\n",
    "        ax.scatter(X_test[:,1], X_test[:,2], Y_test, s=1, c=\"#000000\")\n",
    "        ax.scatter(X_test[:,1], X_test[:,2], Y_test_predicted, s=1, c=\"#FF0000\")\n",
    "        plt.show()\n",
    "        plt.figure()\n",
    "        \n",
    "        print (\"Train error:\", train_error)\n",
    "        print (\"Test error:\", test_error)\n",
    "        print (\"Generalization error:\", true_error)\n",
    "        \n",
    "        history = np.array(history)\n",
    "        a, = plt.plot(history[2:500,0], c=\"#0000FF\", label=\"train error\")\n",
    "        b, = plt.plot(history[2:500,1], c=\"#ff0000\", label=\"test error\")\n",
    "        c, = plt.plot(history[2:500,2], c=\"#000000\", label=\"generalization error\")\n",
    "        plt.legend(handles=[a,b,c])\n",
    "        plt.xlabel(\"iteration\")\n",
    "        plt.ylabel(\"MSE\")\n",
    "        plt.show()\n",
    " \n",
    "        sess.close()    "
   ]
  },
  {
   "cell_type": "code",
   "execution_count": 12,
   "metadata": {},
   "outputs": [
    {
     "name": "stdout",
     "output_type": "stream",
     "text": [
      "====== Linear Regression with the Normal Equation ======\n",
      "[[1.0167242 ]\n",
      " [0.49173632]\n",
      " [0.16331443]\n",
      " [0.06908904]]\n",
      "Linear regression train error: 1.016761\n",
      "Linear regression test error: 1.0083913\n",
      "\n",
      "\n",
      "====== Linear Regression with Maximum Likelihood Estimation ======\n",
      "Negative Log-Likelihood: -1.4271703\n",
      "Saved session to ./feed_fwd_nn_eps.ckpt\n",
      "MLE fitted parameters:\n",
      "[[1.0167433 ]\n",
      " [0.4917811 ]\n",
      " [0.16336294]\n",
      " [0.06912325]]\n",
      "Fitted std of noise:  [1.0080918]\n"
     ]
    },
    {
     "data": {
      "image/png": "[encoded data removed]",
      "text/plain": [
       "<matplotlib.figure.Figure at 0x11f8ef358>"
      ]
     },
     "metadata": {},
     "output_type": "display_data"
    },
    {
     "name": "stdout",
     "output_type": "stream",
     "text": [
      "Train error: 1.0167612\n",
      "Test error: 1.0083884\n",
      "Generalization error: 1.0371083\n"
     ]
    },
    {
     "data": {
      "image/png": "[encoded data removed]",
      "text/plain": [
       "<matplotlib.figure.Figure at 0x11f939320>"
      ]
     },
     "metadata": {},
     "output_type": "display_data"
    }
   ],
   "source": [
    "if __name__ == \"__main__\":\n",
    "    reset_graph()\n",
    "    main()"
   ]
  },
  {
   "cell_type": "markdown",
   "metadata": {},
   "source": [
    "## A new class for Linear Regression with Stochastic Gradient Descent"
   ]
  },
  {
   "cell_type": "code",
   "execution_count": 29,
   "metadata": {},
   "outputs": [],
   "source": [
    "class LR_Model_GD:\n",
    "    def __init__(self, input_size=4, learning_rate=0.01):\n",
    "        # input placeholders\n",
    "        self.X = tf.placeholder(tf.float32, [None, input_size], name=\"X\") # do not add the bias column !!\n",
    "        self.Y = tf.placeholder(tf.float32, [None, 1], name=\"Y\")\n",
    "        \n",
    "        # Linear regression with the analytical formula\n",
    "        data_plus_bias = tf.concat([tf.ones([tf.shape(self.X)[0], 1]), self.X], axis=1)\n",
    "        XT = tf.transpose(data_plus_bias)\n",
    "        self.theta = tf.matmul(tf.matmul(tf.matrix_inverse(tf.matmul(XT, data_plus_bias)), XT), self.Y)\n",
    "        \n",
    "        # a placeholder for regression parameters \n",
    "        self.theta_in = tf.placeholder(tf.float32, [n_features+1,None])\n",
    "   \n",
    "        # Linear regression with Gradient Descent \n",
    "        self.layer = core_layers.Dense(1, dtype=tf.float32)\n",
    "        self.layer.build([None, input_size])\n",
    "        \n",
    "        initial_weights = tf.random_uniform([input_size+1, 1], -1.0, 1.0, seed=42)\n",
    "        self.weights_init = [\n",
    "            self.layer.weights[0].assign(initial_weights[1:]),\n",
    "            self.layer.weights[1].assign(initial_weights[1])\n",
    "        ]\n",
    "        \n",
    "        PREDICTED_Y = self.layer(self.X )\n",
    "        \n",
    "        mse = tf.reduce_mean(tf.square(PREDICTED_Y - self.Y), name=\"mse\")\n",
    "        \n",
    "        # mean square error in terms of theta = theta_in\n",
    "        self.lr_mse = tf.reduce_mean(tf.square(\n",
    "            tf.matmul(data_plus_bias, self.theta_in) - self.Y))\n",
    " \n",
    "    \n",
    "        optimizer = tf.train.GradientDescentOptimizer(learning_rate=learning_rate)\n",
    "        self.training_op = optimizer.minimize(mse)\n",
    "        "
   ]
  },
  {
   "cell_type": "code",
   "execution_count": 30,
   "metadata": {},
   "outputs": [
    {
     "name": "stdout",
     "output_type": "stream",
     "text": [
      "====== Linear Regression with Normal Equation: ======\n",
      "[[1.0001475 ]\n",
      " [0.49519268]\n",
      " [0.20101306]\n",
      " [0.09655613]]\n",
      "lr in-sample error: 0.01012335\n",
      "lr out-of-sample error: 0.010198258\n",
      "====== Stochastic Gradient Fescent regression: ======\n",
      "[[1.00195   ]\n",
      " [0.4984298 ]\n",
      " [0.20351514]\n",
      " [0.09710096]]\n"
     ]
    }
   ],
   "source": [
    "batch_size = 20\n",
    "n_epochs = 100\n",
    "\n",
    "n_iterations = int((X_train.shape[0] / batch_size) * n_epochs)\n",
    "\n",
    "#######################\n",
    "\n",
    "reset_graph()\n",
    "\n",
    "model = LR_Model_GD(input_size=n_features)\n",
    "with tf.Session() as sess:\n",
    "    sess.run(tf.global_variables_initializer())\n",
    "    \n",
    "    theta_value = sess.run(model.theta, feed_dict={\n",
    "        model.X: X_train,\n",
    "        model.Y: Y_train\n",
    "    })\n",
    "    print (\"====== Linear Regression with Normal Equation: ======\")\n",
    "    \n",
    "    print(theta_value)\n",
    "    \n",
    "    lr_mse_insample = sess.run(model.lr_mse, feed_dict={\n",
    "        model.X: X_train,\n",
    "        model.Y: Y_train,\n",
    "        model.theta_in: theta_value\n",
    "    })\n",
    "    print (\"lr in-sample error:\", lr_mse_insample)\n",
    "        \n",
    "    \n",
    "    lr_mse = sess.run(model.lr_mse, feed_dict={\n",
    "        model.X: X_test,\n",
    "        model.Y: Y_test,\n",
    "        model.theta_in: theta_value\n",
    "    })\n",
    "    print (\"lr out-of-sample error:\", lr_mse)\n",
    "\n",
    "        \n",
    "    # reset weights\n",
    "    sess.run(model.weights_init)\n",
    "    \n",
    "    for i in range(0, n_iterations):\n",
    "        batch_ids = np.random.randint(low=0, high=X_train.shape[0], size=batch_size).tolist()\n",
    "        X_batch = X_train[batch_ids]\n",
    "        Y_batch = Y.reshape([-1, 1])[batch_ids]\n",
    "        sess.run(model.training_op, feed_dict={model.X: X_batch, model.Y: Y_batch})\n",
    "    \n",
    "    best_weights = sess.run(model.layer.weights)\n",
    "    print (\"====== Stochastic Gradient Fescent regression: ======\")\n",
    "    print (np.vstack([best_weights[1], best_weights[0]]))\n",
    "    # .tolist()\n",
    "    \n",
    "    "
   ]
  },
  {
   "cell_type": "code",
   "execution_count": null,
   "metadata": {},
   "outputs": [],
   "source": []
  }
 ],
 "metadata": {
  "kernelspec": {
   "display_name": "Python 3",
   "language": "python",
   "name": "python3"
  },
  "language_info": {
   "codemirror_mode": {
    "name": "ipython",
    "version": 3
   },
   "file_extension": ".py",
   "mimetype": "text/x-python",
   "name": "python",
   "nbconvert_exporter": "python",
   "pygments_lexer": "ipython3",
   "version": "3.6.2"
  }
 },
 "nbformat": 4,
 "nbformat_minor": 2
}
